{
 "cells": [
  {
   "cell_type": "markdown",
   "id": "e7ac10ce",
   "metadata": {},
   "source": [
    "# Recommandation Netflix user\n",
    "\n",
    "We would like you to create some movie recommendations for our very special user, Monica Villarreal. Can you please recommend 5 other movies to her? We would like Monica to watch more movies on our website so that she remains a loyal customer. "
   ]
  },
  {
   "cell_type": "code",
   "execution_count": null,
   "id": "b42372b4",
   "metadata": {},
   "outputs": [
    {
     "name": "stdout",
     "output_type": "stream",
     "text": [
      "Similar users to Monica Villarreal : ['Caitlyn Hernandez', 'Kathleen Parker', 'Aaron Flores', 'Aaron Thomas', 'Alan Holland']\n"
     ]
    }
   ],
   "source": [
    "import pandas as pd\n",
    "from sklearn.metrics.pairwise import cosine_similarity\n",
    "import numpy as np\n",
    "data = pd.read_csv(\"Netmovies_ratings_db.csv\")\n",
    "\n",
    "user_item_matrix = data.pivot_table(\n",
    "    index=\"userName\", \n",
    "    columns=\"title\", \n",
    "    values=\"rating\"\n",
    ")\n",
    "user=\"Monica Villarreal\"\n",
    "\n",
    "\n",
    "def get_similar_users(target_user, n=5):\n",
    "    if target_user not in user_item_matrix.index:\n",
    "        return f\"User '{target_user}' not found.\"\n",
    "\n",
    "    similarities = {}\n",
    "    for other_user in user_item_matrix.index:\n",
    "        if other_user == target_user:\n",
    "            continue\n",
    "        #selected only the movies rated by both users\n",
    "        common_movies = user_item_matrix.loc[target_user].dropna().index.intersection(\n",
    "                        user_item_matrix.loc[other_user].dropna().index)\n",
    "        if len(common_movies) == 0:\n",
    "            continue\n",
    "        v1 = user_item_matrix.loc[target_user, common_movies].to_numpy()\n",
    "        v2 = user_item_matrix.loc[other_user, common_movies].to_numpy()\n",
    "        #cosine similarity calculation\n",
    "        sim = np.dot(v1, v2) / (np.linalg.norm(v1) * np.linalg.norm(v2))\n",
    "        similarities[other_user] = sim\n",
    "\n",
    "    \n",
    "    similar_users = sorted(similarities, key=similarities.get, reverse=True)[:n]\n",
    "    return similar_users\n",
    "similar_users = get_similar_users(user)\n",
    "print(\"Similar users to\", user, \":\", get_similar_users(user))"
   ]
  },
  {
   "cell_type": "markdown",
   "id": "0e8ad693",
   "metadata": {},
   "source": [
    "With the n most close user we can select the recommended films. \n",
    "\n",
    "We will chose the five more viewed films by the closet person"
   ]
  },
  {
   "cell_type": "code",
   "execution_count": 8,
   "id": "9352f7c7",
   "metadata": {},
   "outputs": [
    {
     "name": "stdout",
     "output_type": "stream",
     "text": [
      "Recommended films:\n",
      "('Batman Returns', 4)\n",
      "('Silent Hill', 4)\n",
      "('To Kill a Mockingbird', 3)\n",
      "('5 Card Stud', 3)\n",
      "('Boogie Nights', 3)\n"
     ]
    }
   ],
   "source": [
    "def get_proposed_films(user):\n",
    "    \"\"\"\n",
    "    Get a list of films rated by the user.\n",
    "    \n",
    "    \"\"\"\n",
    "    list_film_monica=data[data['userName']==user]['title'].tolist()\n",
    "    dict_film_proposed={}\n",
    "    for user in similar_users:\n",
    "        list_film_user=data[data['userName']==user]['title'].tolist()\n",
    "        for film in list_film_user:\n",
    "            if film not in list_film_monica:\n",
    "                if film not in dict_film_proposed:\n",
    "                    dict_film_proposed[film]=1\n",
    "                else:\n",
    "                    dict_film_proposed[film]+=1\n",
    "\n",
    "    sorted_dict_film_proposed=sorted(dict_film_proposed.items(), key=lambda x: x[1], reverse=True)\n",
    "\n",
    "    return sorted_dict_film_proposed\n",
    "\n",
    "print(\"Recommended films:\")\n",
    "for film in get_proposed_films(user)[:5]:\n",
    "    print(film)\n"
   ]
  }
 ],
 "metadata": {
  "kernelspec": {
   "display_name": "Python 3",
   "language": "python",
   "name": "python3"
  },
  "language_info": {
   "codemirror_mode": {
    "name": "ipython",
    "version": 3
   },
   "file_extension": ".py",
   "mimetype": "text/x-python",
   "name": "python",
   "nbconvert_exporter": "python",
   "pygments_lexer": "ipython3",
   "version": "3.13.7"
  }
 },
 "nbformat": 4,
 "nbformat_minor": 5
}
