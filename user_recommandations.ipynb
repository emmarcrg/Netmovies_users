{
 "cells": [
  {
   "cell_type": "markdown",
   "id": "1e85ede8",
   "metadata": {},
   "source": [
    "To have the best recommandations for our costumer, Monica Villarreal, we will apply a User based collaborative filtering.\n",
    "\n",
    "We will, for this work, see the correlations between Monica and all the others person we have on the dataset."
   ]
  },
  {
   "cell_type": "markdown",
   "id": "0ecc7db7",
   "metadata": {},
   "source": [
    "First, we'll load the dataset and separate the data from Monica and from the others."
   ]
  },
  {
   "cell_type": "code",
   "execution_count": 2,
   "id": "88e39018",
   "metadata": {},
   "outputs": [
    {
     "name": "stdout",
     "output_type": "stream",
     "text": [
      "            userName  rating                           title\n",
      "0           Tom Cook     2.5                       Rocky III\n",
      "1           Tom Cook     1.0                           Greed\n",
      "2           Tom Cook     4.0                    American Pie\n",
      "3           Tom Cook     2.0                        My Tutor\n",
      "4           Tom Cook     2.0  Jay and Silent Bob Strike Back\n",
      "...              ...     ...                             ...\n",
      "44989  Charles Jones     4.0                   Boogie Nights\n",
      "44990  Charles Jones     4.0                          Waiter\n",
      "44991  Charles Jones     3.5                A Bridge Too Far\n",
      "44992  Charles Jones     4.5                  The Last Laugh\n",
      "44993  Charles Jones     4.0                           Miffo\n",
      "\n",
      "[44994 rows x 3 columns]\n"
     ]
    }
   ],
   "source": [
    "import pandas as pd\n",
    "\n",
    "data = pd.read_csv('Netmovies_ratings_db.csv')\n",
    "\n",
    "data.drop(columns=['timestamp'], inplace=True)\n",
    "\n",
    "print(data)"
   ]
  },
  {
   "cell_type": "code",
   "execution_count": 3,
   "id": "c300fe64",
   "metadata": {},
   "outputs": [
    {
     "name": "stdout",
     "output_type": "stream",
     "text": [
      "              userName  rating                               title\n",
      "425  Monica Villarreal     1.0                 Million Dollar Baby\n",
      "426  Monica Villarreal     3.0                          Predator 2\n",
      "427  Monica Villarreal     5.0  Terminator 3: Rise of the Machines\n",
      "428  Monica Villarreal     4.5           Monsieur  Hulot's Holiday\n",
      "429  Monica Villarreal     5.0                    Dawn of the Dead\n",
      "430  Monica Villarreal     5.0                    Cutthroat Island\n",
      "431  Monica Villarreal     3.0                    Or (My Treasure)\n",
      "432  Monica Villarreal     3.5                              Savior\n",
      "433  Monica Villarreal     3.0                  Young and Innocent\n",
      "434  Monica Villarreal     5.0                          La Chienne\n",
      "435  Monica Villarreal     4.0    Ring of Fire II: Blood and Steel\n",
      "436  Monica Villarreal     4.0                Heart of the Country\n"
     ]
    }
   ],
   "source": [
    "def get_user_data(userName):\n",
    "    return data[data['userName']==userName]\n",
    "monica = get_user_data('Monica Villarreal')\n",
    "data.drop(monica.index, inplace=True)\n",
    "print(monica)"
   ]
  },
  {
   "cell_type": "markdown",
   "id": "58c510af",
   "metadata": {},
   "source": [
    "Since we have the Monica's data, we will have the opportunity to calculate the correlation of his rating with other users."
   ]
  },
  {
   "cell_type": "code",
   "execution_count": 4,
   "id": "5fa3d675",
   "metadata": {},
   "outputs": [
    {
     "name": "stderr",
     "output_type": "stream",
     "text": [
      "c:\\Users\\emmar\\AppData\\Local\\Programs\\Python\\Python313\\Lib\\site-packages\\numpy\\lib\\_function_base_impl.py:3065: RuntimeWarning: invalid value encountered in divide\n",
      "  c /= stddev[:, None]\n",
      "c:\\Users\\emmar\\AppData\\Local\\Programs\\Python\\Python313\\Lib\\site-packages\\numpy\\lib\\_function_base_impl.py:3066: RuntimeWarning: invalid value encountered in divide\n",
      "  c /= stddev[None, :]\n",
      "c:\\Users\\emmar\\AppData\\Local\\Programs\\Python\\Python313\\Lib\\site-packages\\numpy\\lib\\_function_base_impl.py:3065: RuntimeWarning: invalid value encountered in divide\n",
      "  c /= stddev[:, None]\n",
      "c:\\Users\\emmar\\AppData\\Local\\Programs\\Python\\Python313\\Lib\\site-packages\\numpy\\lib\\_function_base_impl.py:3066: RuntimeWarning: invalid value encountered in divide\n",
      "  c /= stddev[None, :]\n",
      "c:\\Users\\emmar\\AppData\\Local\\Programs\\Python\\Python313\\Lib\\site-packages\\numpy\\lib\\_function_base_impl.py:3065: RuntimeWarning: invalid value encountered in divide\n",
      "  c /= stddev[:, None]\n",
      "c:\\Users\\emmar\\AppData\\Local\\Programs\\Python\\Python313\\Lib\\site-packages\\numpy\\lib\\_function_base_impl.py:3066: RuntimeWarning: invalid value encountered in divide\n",
      "  c /= stddev[None, :]\n",
      "c:\\Users\\emmar\\AppData\\Local\\Programs\\Python\\Python313\\Lib\\site-packages\\numpy\\lib\\_function_base_impl.py:3065: RuntimeWarning: invalid value encountered in divide\n",
      "  c /= stddev[:, None]\n",
      "c:\\Users\\emmar\\AppData\\Local\\Programs\\Python\\Python313\\Lib\\site-packages\\numpy\\lib\\_function_base_impl.py:3066: RuntimeWarning: invalid value encountered in divide\n",
      "  c /= stddev[None, :]\n",
      "c:\\Users\\emmar\\AppData\\Local\\Programs\\Python\\Python313\\Lib\\site-packages\\numpy\\lib\\_function_base_impl.py:3065: RuntimeWarning: invalid value encountered in divide\n",
      "  c /= stddev[:, None]\n",
      "c:\\Users\\emmar\\AppData\\Local\\Programs\\Python\\Python313\\Lib\\site-packages\\numpy\\lib\\_function_base_impl.py:3066: RuntimeWarning: invalid value encountered in divide\n",
      "  c /= stddev[None, :]\n",
      "c:\\Users\\emmar\\AppData\\Local\\Programs\\Python\\Python313\\Lib\\site-packages\\numpy\\lib\\_function_base_impl.py:3065: RuntimeWarning: invalid value encountered in divide\n",
      "  c /= stddev[:, None]\n",
      "c:\\Users\\emmar\\AppData\\Local\\Programs\\Python\\Python313\\Lib\\site-packages\\numpy\\lib\\_function_base_impl.py:3065: RuntimeWarning: invalid value encountered in divide\n",
      "  c /= stddev[:, None]\n",
      "c:\\Users\\emmar\\AppData\\Local\\Programs\\Python\\Python313\\Lib\\site-packages\\numpy\\lib\\_function_base_impl.py:3066: RuntimeWarning: invalid value encountered in divide\n",
      "  c /= stddev[None, :]\n",
      "c:\\Users\\emmar\\AppData\\Local\\Programs\\Python\\Python313\\Lib\\site-packages\\numpy\\lib\\_function_base_impl.py:3065: RuntimeWarning: invalid value encountered in divide\n",
      "  c /= stddev[:, None]\n",
      "c:\\Users\\emmar\\AppData\\Local\\Programs\\Python\\Python313\\Lib\\site-packages\\numpy\\lib\\_function_base_impl.py:3066: RuntimeWarning: invalid value encountered in divide\n",
      "  c /= stddev[None, :]\n",
      "c:\\Users\\emmar\\AppData\\Local\\Programs\\Python\\Python313\\Lib\\site-packages\\numpy\\lib\\_function_base_impl.py:3065: RuntimeWarning: invalid value encountered in divide\n",
      "  c /= stddev[:, None]\n",
      "c:\\Users\\emmar\\AppData\\Local\\Programs\\Python\\Python313\\Lib\\site-packages\\numpy\\lib\\_function_base_impl.py:3066: RuntimeWarning: invalid value encountered in divide\n",
      "  c /= stddev[None, :]\n",
      "c:\\Users\\emmar\\AppData\\Local\\Programs\\Python\\Python313\\Lib\\site-packages\\numpy\\lib\\_function_base_impl.py:3065: RuntimeWarning: invalid value encountered in divide\n",
      "  c /= stddev[:, None]\n",
      "c:\\Users\\emmar\\AppData\\Local\\Programs\\Python\\Python313\\Lib\\site-packages\\numpy\\lib\\_function_base_impl.py:3066: RuntimeWarning: invalid value encountered in divide\n",
      "  c /= stddev[None, :]\n",
      "c:\\Users\\emmar\\AppData\\Local\\Programs\\Python\\Python313\\Lib\\site-packages\\numpy\\lib\\_function_base_impl.py:3065: RuntimeWarning: invalid value encountered in divide\n",
      "  c /= stddev[:, None]\n",
      "c:\\Users\\emmar\\AppData\\Local\\Programs\\Python\\Python313\\Lib\\site-packages\\numpy\\lib\\_function_base_impl.py:3066: RuntimeWarning: invalid value encountered in divide\n",
      "  c /= stddev[None, :]\n",
      "c:\\Users\\emmar\\AppData\\Local\\Programs\\Python\\Python313\\Lib\\site-packages\\numpy\\lib\\_function_base_impl.py:3065: RuntimeWarning: invalid value encountered in divide\n",
      "  c /= stddev[:, None]\n",
      "c:\\Users\\emmar\\AppData\\Local\\Programs\\Python\\Python313\\Lib\\site-packages\\numpy\\lib\\_function_base_impl.py:3066: RuntimeWarning: invalid value encountered in divide\n",
      "  c /= stddev[None, :]\n",
      "c:\\Users\\emmar\\AppData\\Local\\Programs\\Python\\Python313\\Lib\\site-packages\\numpy\\lib\\_function_base_impl.py:3065: RuntimeWarning: invalid value encountered in divide\n",
      "  c /= stddev[:, None]\n",
      "c:\\Users\\emmar\\AppData\\Local\\Programs\\Python\\Python313\\Lib\\site-packages\\numpy\\lib\\_function_base_impl.py:3066: RuntimeWarning: invalid value encountered in divide\n",
      "  c /= stddev[None, :]\n",
      "c:\\Users\\emmar\\AppData\\Local\\Programs\\Python\\Python313\\Lib\\site-packages\\numpy\\lib\\_function_base_impl.py:3065: RuntimeWarning: invalid value encountered in divide\n",
      "  c /= stddev[:, None]\n",
      "c:\\Users\\emmar\\AppData\\Local\\Programs\\Python\\Python313\\Lib\\site-packages\\numpy\\lib\\_function_base_impl.py:3066: RuntimeWarning: invalid value encountered in divide\n",
      "  c /= stddev[None, :]\n",
      "c:\\Users\\emmar\\AppData\\Local\\Programs\\Python\\Python313\\Lib\\site-packages\\numpy\\lib\\_function_base_impl.py:3065: RuntimeWarning: invalid value encountered in divide\n",
      "  c /= stddev[:, None]\n",
      "c:\\Users\\emmar\\AppData\\Local\\Programs\\Python\\Python313\\Lib\\site-packages\\numpy\\lib\\_function_base_impl.py:3066: RuntimeWarning: invalid value encountered in divide\n",
      "  c /= stddev[None, :]\n",
      "c:\\Users\\emmar\\AppData\\Local\\Programs\\Python\\Python313\\Lib\\site-packages\\numpy\\lib\\_function_base_impl.py:3065: RuntimeWarning: invalid value encountered in divide\n",
      "  c /= stddev[:, None]\n",
      "c:\\Users\\emmar\\AppData\\Local\\Programs\\Python\\Python313\\Lib\\site-packages\\numpy\\lib\\_function_base_impl.py:3066: RuntimeWarning: invalid value encountered in divide\n",
      "  c /= stddev[None, :]\n",
      "c:\\Users\\emmar\\AppData\\Local\\Programs\\Python\\Python313\\Lib\\site-packages\\numpy\\lib\\_function_base_impl.py:3065: RuntimeWarning: invalid value encountered in divide\n",
      "  c /= stddev[:, None]\n",
      "c:\\Users\\emmar\\AppData\\Local\\Programs\\Python\\Python313\\Lib\\site-packages\\numpy\\lib\\_function_base_impl.py:3066: RuntimeWarning: invalid value encountered in divide\n",
      "  c /= stddev[None, :]\n",
      "c:\\Users\\emmar\\AppData\\Local\\Programs\\Python\\Python313\\Lib\\site-packages\\numpy\\lib\\_function_base_impl.py:3065: RuntimeWarning: invalid value encountered in divide\n",
      "  c /= stddev[:, None]\n",
      "c:\\Users\\emmar\\AppData\\Local\\Programs\\Python\\Python313\\Lib\\site-packages\\numpy\\lib\\_function_base_impl.py:3066: RuntimeWarning: invalid value encountered in divide\n",
      "  c /= stddev[None, :]\n",
      "c:\\Users\\emmar\\AppData\\Local\\Programs\\Python\\Python313\\Lib\\site-packages\\numpy\\lib\\_function_base_impl.py:3065: RuntimeWarning: invalid value encountered in divide\n",
      "  c /= stddev[:, None]\n",
      "c:\\Users\\emmar\\AppData\\Local\\Programs\\Python\\Python313\\Lib\\site-packages\\numpy\\lib\\_function_base_impl.py:3066: RuntimeWarning: invalid value encountered in divide\n",
      "  c /= stddev[None, :]\n",
      "c:\\Users\\emmar\\AppData\\Local\\Programs\\Python\\Python313\\Lib\\site-packages\\numpy\\lib\\_function_base_impl.py:3065: RuntimeWarning: invalid value encountered in divide\n",
      "  c /= stddev[:, None]\n",
      "c:\\Users\\emmar\\AppData\\Local\\Programs\\Python\\Python313\\Lib\\site-packages\\numpy\\lib\\_function_base_impl.py:3066: RuntimeWarning: invalid value encountered in divide\n",
      "  c /= stddev[None, :]\n",
      "c:\\Users\\emmar\\AppData\\Local\\Programs\\Python\\Python313\\Lib\\site-packages\\numpy\\lib\\_function_base_impl.py:3065: RuntimeWarning: invalid value encountered in divide\n",
      "  c /= stddev[:, None]\n",
      "c:\\Users\\emmar\\AppData\\Local\\Programs\\Python\\Python313\\Lib\\site-packages\\numpy\\lib\\_function_base_impl.py:3066: RuntimeWarning: invalid value encountered in divide\n",
      "  c /= stddev[None, :]\n",
      "c:\\Users\\emmar\\AppData\\Local\\Programs\\Python\\Python313\\Lib\\site-packages\\numpy\\lib\\_function_base_impl.py:3065: RuntimeWarning: invalid value encountered in divide\n",
      "  c /= stddev[:, None]\n",
      "c:\\Users\\emmar\\AppData\\Local\\Programs\\Python\\Python313\\Lib\\site-packages\\numpy\\lib\\_function_base_impl.py:3065: RuntimeWarning: invalid value encountered in divide\n",
      "  c /= stddev[:, None]\n",
      "c:\\Users\\emmar\\AppData\\Local\\Programs\\Python\\Python313\\Lib\\site-packages\\numpy\\lib\\_function_base_impl.py:3066: RuntimeWarning: invalid value encountered in divide\n",
      "  c /= stddev[None, :]\n",
      "c:\\Users\\emmar\\AppData\\Local\\Programs\\Python\\Python313\\Lib\\site-packages\\numpy\\lib\\_function_base_impl.py:3065: RuntimeWarning: invalid value encountered in divide\n",
      "  c /= stddev[:, None]\n",
      "c:\\Users\\emmar\\AppData\\Local\\Programs\\Python\\Python313\\Lib\\site-packages\\numpy\\lib\\_function_base_impl.py:3066: RuntimeWarning: invalid value encountered in divide\n",
      "  c /= stddev[None, :]\n",
      "c:\\Users\\emmar\\AppData\\Local\\Programs\\Python\\Python313\\Lib\\site-packages\\numpy\\lib\\_function_base_impl.py:3065: RuntimeWarning: invalid value encountered in divide\n",
      "  c /= stddev[:, None]\n",
      "c:\\Users\\emmar\\AppData\\Local\\Programs\\Python\\Python313\\Lib\\site-packages\\numpy\\lib\\_function_base_impl.py:3066: RuntimeWarning: invalid value encountered in divide\n",
      "  c /= stddev[None, :]\n",
      "c:\\Users\\emmar\\AppData\\Local\\Programs\\Python\\Python313\\Lib\\site-packages\\numpy\\lib\\_function_base_impl.py:3065: RuntimeWarning: invalid value encountered in divide\n",
      "  c /= stddev[:, None]\n",
      "c:\\Users\\emmar\\AppData\\Local\\Programs\\Python\\Python313\\Lib\\site-packages\\numpy\\lib\\_function_base_impl.py:3066: RuntimeWarning: invalid value encountered in divide\n",
      "  c /= stddev[None, :]\n",
      "c:\\Users\\emmar\\AppData\\Local\\Programs\\Python\\Python313\\Lib\\site-packages\\numpy\\lib\\_function_base_impl.py:3065: RuntimeWarning: invalid value encountered in divide\n",
      "  c /= stddev[:, None]\n",
      "c:\\Users\\emmar\\AppData\\Local\\Programs\\Python\\Python313\\Lib\\site-packages\\numpy\\lib\\_function_base_impl.py:3066: RuntimeWarning: invalid value encountered in divide\n",
      "  c /= stddev[None, :]\n",
      "c:\\Users\\emmar\\AppData\\Local\\Programs\\Python\\Python313\\Lib\\site-packages\\numpy\\lib\\_function_base_impl.py:3065: RuntimeWarning: invalid value encountered in divide\n",
      "  c /= stddev[:, None]\n",
      "c:\\Users\\emmar\\AppData\\Local\\Programs\\Python\\Python313\\Lib\\site-packages\\numpy\\lib\\_function_base_impl.py:3066: RuntimeWarning: invalid value encountered in divide\n",
      "  c /= stddev[None, :]\n",
      "c:\\Users\\emmar\\AppData\\Local\\Programs\\Python\\Python313\\Lib\\site-packages\\numpy\\lib\\_function_base_impl.py:3065: RuntimeWarning: invalid value encountered in divide\n",
      "  c /= stddev[:, None]\n",
      "c:\\Users\\emmar\\AppData\\Local\\Programs\\Python\\Python313\\Lib\\site-packages\\numpy\\lib\\_function_base_impl.py:3066: RuntimeWarning: invalid value encountered in divide\n",
      "  c /= stddev[None, :]\n",
      "c:\\Users\\emmar\\AppData\\Local\\Programs\\Python\\Python313\\Lib\\site-packages\\numpy\\lib\\_function_base_impl.py:3065: RuntimeWarning: invalid value encountered in divide\n",
      "  c /= stddev[:, None]\n",
      "c:\\Users\\emmar\\AppData\\Local\\Programs\\Python\\Python313\\Lib\\site-packages\\numpy\\lib\\_function_base_impl.py:3066: RuntimeWarning: invalid value encountered in divide\n",
      "  c /= stddev[None, :]\n",
      "c:\\Users\\emmar\\AppData\\Local\\Programs\\Python\\Python313\\Lib\\site-packages\\numpy\\lib\\_function_base_impl.py:3065: RuntimeWarning: invalid value encountered in divide\n",
      "  c /= stddev[:, None]\n",
      "c:\\Users\\emmar\\AppData\\Local\\Programs\\Python\\Python313\\Lib\\site-packages\\numpy\\lib\\_function_base_impl.py:3066: RuntimeWarning: invalid value encountered in divide\n",
      "  c /= stddev[None, :]\n",
      "c:\\Users\\emmar\\AppData\\Local\\Programs\\Python\\Python313\\Lib\\site-packages\\numpy\\lib\\_function_base_impl.py:3065: RuntimeWarning: invalid value encountered in divide\n",
      "  c /= stddev[:, None]\n",
      "c:\\Users\\emmar\\AppData\\Local\\Programs\\Python\\Python313\\Lib\\site-packages\\numpy\\lib\\_function_base_impl.py:3065: RuntimeWarning: invalid value encountered in divide\n",
      "  c /= stddev[:, None]\n",
      "c:\\Users\\emmar\\AppData\\Local\\Programs\\Python\\Python313\\Lib\\site-packages\\numpy\\lib\\_function_base_impl.py:3066: RuntimeWarning: invalid value encountered in divide\n",
      "  c /= stddev[None, :]\n",
      "c:\\Users\\emmar\\AppData\\Local\\Programs\\Python\\Python313\\Lib\\site-packages\\numpy\\lib\\_function_base_impl.py:3065: RuntimeWarning: invalid value encountered in divide\n",
      "  c /= stddev[:, None]\n",
      "c:\\Users\\emmar\\AppData\\Local\\Programs\\Python\\Python313\\Lib\\site-packages\\numpy\\lib\\_function_base_impl.py:3066: RuntimeWarning: invalid value encountered in divide\n",
      "  c /= stddev[None, :]\n",
      "c:\\Users\\emmar\\AppData\\Local\\Programs\\Python\\Python313\\Lib\\site-packages\\numpy\\lib\\_function_base_impl.py:3065: RuntimeWarning: invalid value encountered in divide\n",
      "  c /= stddev[:, None]\n",
      "c:\\Users\\emmar\\AppData\\Local\\Programs\\Python\\Python313\\Lib\\site-packages\\numpy\\lib\\_function_base_impl.py:3065: RuntimeWarning: invalid value encountered in divide\n",
      "  c /= stddev[:, None]\n",
      "c:\\Users\\emmar\\AppData\\Local\\Programs\\Python\\Python313\\Lib\\site-packages\\numpy\\lib\\_function_base_impl.py:3066: RuntimeWarning: invalid value encountered in divide\n",
      "  c /= stddev[None, :]\n",
      "c:\\Users\\emmar\\AppData\\Local\\Programs\\Python\\Python313\\Lib\\site-packages\\numpy\\lib\\_function_base_impl.py:3065: RuntimeWarning: invalid value encountered in divide\n",
      "  c /= stddev[:, None]\n",
      "c:\\Users\\emmar\\AppData\\Local\\Programs\\Python\\Python313\\Lib\\site-packages\\numpy\\lib\\_function_base_impl.py:3066: RuntimeWarning: invalid value encountered in divide\n",
      "  c /= stddev[None, :]\n",
      "c:\\Users\\emmar\\AppData\\Local\\Programs\\Python\\Python313\\Lib\\site-packages\\numpy\\lib\\_function_base_impl.py:3065: RuntimeWarning: invalid value encountered in divide\n",
      "  c /= stddev[:, None]\n",
      "c:\\Users\\emmar\\AppData\\Local\\Programs\\Python\\Python313\\Lib\\site-packages\\numpy\\lib\\_function_base_impl.py:3066: RuntimeWarning: invalid value encountered in divide\n",
      "  c /= stddev[None, :]\n",
      "c:\\Users\\emmar\\AppData\\Local\\Programs\\Python\\Python313\\Lib\\site-packages\\numpy\\lib\\_function_base_impl.py:3065: RuntimeWarning: invalid value encountered in divide\n",
      "  c /= stddev[:, None]\n",
      "c:\\Users\\emmar\\AppData\\Local\\Programs\\Python\\Python313\\Lib\\site-packages\\numpy\\lib\\_function_base_impl.py:3066: RuntimeWarning: invalid value encountered in divide\n",
      "  c /= stddev[None, :]\n",
      "c:\\Users\\emmar\\AppData\\Local\\Programs\\Python\\Python313\\Lib\\site-packages\\numpy\\lib\\_function_base_impl.py:3065: RuntimeWarning: invalid value encountered in divide\n",
      "  c /= stddev[:, None]\n",
      "c:\\Users\\emmar\\AppData\\Local\\Programs\\Python\\Python313\\Lib\\site-packages\\numpy\\lib\\_function_base_impl.py:3066: RuntimeWarning: invalid value encountered in divide\n",
      "  c /= stddev[None, :]\n",
      "c:\\Users\\emmar\\AppData\\Local\\Programs\\Python\\Python313\\Lib\\site-packages\\numpy\\lib\\_function_base_impl.py:3065: RuntimeWarning: invalid value encountered in divide\n",
      "  c /= stddev[:, None]\n",
      "c:\\Users\\emmar\\AppData\\Local\\Programs\\Python\\Python313\\Lib\\site-packages\\numpy\\lib\\_function_base_impl.py:3066: RuntimeWarning: invalid value encountered in divide\n",
      "  c /= stddev[None, :]\n",
      "c:\\Users\\emmar\\AppData\\Local\\Programs\\Python\\Python313\\Lib\\site-packages\\numpy\\lib\\_function_base_impl.py:3065: RuntimeWarning: invalid value encountered in divide\n",
      "  c /= stddev[:, None]\n",
      "c:\\Users\\emmar\\AppData\\Local\\Programs\\Python\\Python313\\Lib\\site-packages\\numpy\\lib\\_function_base_impl.py:3065: RuntimeWarning: invalid value encountered in divide\n",
      "  c /= stddev[:, None]\n",
      "c:\\Users\\emmar\\AppData\\Local\\Programs\\Python\\Python313\\Lib\\site-packages\\numpy\\lib\\_function_base_impl.py:3066: RuntimeWarning: invalid value encountered in divide\n",
      "  c /= stddev[None, :]\n",
      "c:\\Users\\emmar\\AppData\\Local\\Programs\\Python\\Python313\\Lib\\site-packages\\numpy\\lib\\_function_base_impl.py:3065: RuntimeWarning: invalid value encountered in divide\n",
      "  c /= stddev[:, None]\n",
      "c:\\Users\\emmar\\AppData\\Local\\Programs\\Python\\Python313\\Lib\\site-packages\\numpy\\lib\\_function_base_impl.py:3066: RuntimeWarning: invalid value encountered in divide\n",
      "  c /= stddev[None, :]\n",
      "c:\\Users\\emmar\\AppData\\Local\\Programs\\Python\\Python313\\Lib\\site-packages\\numpy\\lib\\_function_base_impl.py:3065: RuntimeWarning: invalid value encountered in divide\n",
      "  c /= stddev[:, None]\n",
      "c:\\Users\\emmar\\AppData\\Local\\Programs\\Python\\Python313\\Lib\\site-packages\\numpy\\lib\\_function_base_impl.py:3065: RuntimeWarning: invalid value encountered in divide\n",
      "  c /= stddev[:, None]\n",
      "c:\\Users\\emmar\\AppData\\Local\\Programs\\Python\\Python313\\Lib\\site-packages\\numpy\\lib\\_function_base_impl.py:3066: RuntimeWarning: invalid value encountered in divide\n",
      "  c /= stddev[None, :]\n",
      "c:\\Users\\emmar\\AppData\\Local\\Programs\\Python\\Python313\\Lib\\site-packages\\numpy\\lib\\_function_base_impl.py:3065: RuntimeWarning: invalid value encountered in divide\n",
      "  c /= stddev[:, None]\n",
      "c:\\Users\\emmar\\AppData\\Local\\Programs\\Python\\Python313\\Lib\\site-packages\\numpy\\lib\\_function_base_impl.py:3065: RuntimeWarning: invalid value encountered in divide\n",
      "  c /= stddev[:, None]\n",
      "c:\\Users\\emmar\\AppData\\Local\\Programs\\Python\\Python313\\Lib\\site-packages\\numpy\\lib\\_function_base_impl.py:3066: RuntimeWarning: invalid value encountered in divide\n",
      "  c /= stddev[None, :]\n",
      "c:\\Users\\emmar\\AppData\\Local\\Programs\\Python\\Python313\\Lib\\site-packages\\numpy\\lib\\_function_base_impl.py:3065: RuntimeWarning: invalid value encountered in divide\n",
      "  c /= stddev[:, None]\n",
      "c:\\Users\\emmar\\AppData\\Local\\Programs\\Python\\Python313\\Lib\\site-packages\\numpy\\lib\\_function_base_impl.py:3065: RuntimeWarning: invalid value encountered in divide\n",
      "  c /= stddev[:, None]\n",
      "c:\\Users\\emmar\\AppData\\Local\\Programs\\Python\\Python313\\Lib\\site-packages\\numpy\\lib\\_function_base_impl.py:3066: RuntimeWarning: invalid value encountered in divide\n",
      "  c /= stddev[None, :]\n",
      "c:\\Users\\emmar\\AppData\\Local\\Programs\\Python\\Python313\\Lib\\site-packages\\numpy\\lib\\_function_base_impl.py:3065: RuntimeWarning: invalid value encountered in divide\n",
      "  c /= stddev[:, None]\n",
      "c:\\Users\\emmar\\AppData\\Local\\Programs\\Python\\Python313\\Lib\\site-packages\\numpy\\lib\\_function_base_impl.py:3066: RuntimeWarning: invalid value encountered in divide\n",
      "  c /= stddev[None, :]\n",
      "c:\\Users\\emmar\\AppData\\Local\\Programs\\Python\\Python313\\Lib\\site-packages\\numpy\\lib\\_function_base_impl.py:3065: RuntimeWarning: invalid value encountered in divide\n",
      "  c /= stddev[:, None]\n",
      "c:\\Users\\emmar\\AppData\\Local\\Programs\\Python\\Python313\\Lib\\site-packages\\numpy\\lib\\_function_base_impl.py:3065: RuntimeWarning: invalid value encountered in divide\n",
      "  c /= stddev[:, None]\n",
      "c:\\Users\\emmar\\AppData\\Local\\Programs\\Python\\Python313\\Lib\\site-packages\\numpy\\lib\\_function_base_impl.py:3065: RuntimeWarning: invalid value encountered in divide\n",
      "  c /= stddev[:, None]\n",
      "c:\\Users\\emmar\\AppData\\Local\\Programs\\Python\\Python313\\Lib\\site-packages\\numpy\\lib\\_function_base_impl.py:3066: RuntimeWarning: invalid value encountered in divide\n",
      "  c /= stddev[None, :]\n",
      "c:\\Users\\emmar\\AppData\\Local\\Programs\\Python\\Python313\\Lib\\site-packages\\numpy\\lib\\_function_base_impl.py:3065: RuntimeWarning: invalid value encountered in divide\n",
      "  c /= stddev[:, None]\n",
      "c:\\Users\\emmar\\AppData\\Local\\Programs\\Python\\Python313\\Lib\\site-packages\\numpy\\lib\\_function_base_impl.py:3066: RuntimeWarning: invalid value encountered in divide\n",
      "  c /= stddev[None, :]\n",
      "c:\\Users\\emmar\\AppData\\Local\\Programs\\Python\\Python313\\Lib\\site-packages\\numpy\\lib\\_function_base_impl.py:3065: RuntimeWarning: invalid value encountered in divide\n",
      "  c /= stddev[:, None]\n",
      "c:\\Users\\emmar\\AppData\\Local\\Programs\\Python\\Python313\\Lib\\site-packages\\numpy\\lib\\_function_base_impl.py:3066: RuntimeWarning: invalid value encountered in divide\n",
      "  c /= stddev[None, :]\n"
     ]
    },
    {
     "name": "stdout",
     "output_type": "stream",
     "text": [
      "{'Tom Cook': None, 'Katherine Stevens': None, 'Thomas Arnold': np.float64(0.9607689228305228), 'Karina Davis': np.float64(1.0), 'Michelle Roberson': None, 'Deanna Wise': None, 'Devin Davis': np.float64(nan), 'Edwin Welch': np.float64(-0.9999999999999999), 'Laurie Perez': None, 'Daniel Hopkins': None, 'Peter Brown': None, 'Melanie Hunter': np.float64(0.9999999999999998), 'Aimee Lee': None, 'Christopher Stevens': np.float64(0.9200129084349359), 'Timothy Ward': None, 'Maureen Hicks': np.float64(0.44022545316281186), 'Mark Duncan': None, 'Juan Ortiz': np.float64(0.17407765595569782), 'Frank Riddle': np.float64(-1.0), 'Timothy Lopez': np.float64(nan), 'John Miller': np.float64(1.0), 'Sarah Rice': np.float64(0.2531848417709167), 'Rebecca Vasquez': None, 'Shannon Curtis': None, 'Christopher Morales': np.float64(-0.9999999999999999), 'Marcus Cooper': np.float64(-0.9999999999999999), 'Gary Hughes': None, 'Mark Silva': None, 'John Marsh': np.float64(0.8703882797784891), 'Richard Hoover': np.float64(0.9999999999999999), 'Daniel Baker': None, 'Morgan Cox': None, 'Kristina Lopez': np.float64(0.9045340337332909), 'Jesse Maynard': None, 'Michael Porter': np.float64(-0.9999999999999999), 'Marvin Morrison': None, 'Deanna Bailey': np.float64(0.9999999999999999), 'Carol Anderson': np.float64(nan), 'Erica Davis': None, 'James Sims': None, 'Mary Clements': None, 'Paula Cline': None, 'Robert Johnson': None, 'Kevin Hudson': None, 'Christina Mason MD': None, 'Marvin May': None, 'April Miller': np.float64(0.8728715609439696), 'Paul Sparks': None, 'Brian Vega': None, 'Christopher White': None, 'Casey Berger': None, 'Amber Young': None, 'Jessica Turner': None, 'Scott Smith DVM': None, 'Maria Lamb': np.float64(0.7717436331412897), 'Jeffrey Nelson': np.float64(0.9999999999999999), 'Ashley Reid': None, 'Traci Castillo': None, 'Tiffany Clark': None, 'Jennifer Martinez': None, 'Valerie Murphy': None, 'Brandon Brown': np.float64(1.0), 'Rebecca Cox': None, 'Jessica Smith': None, 'Dr. Gerald Cameron': None, 'Brian Avila': None, 'Jeffrey Walker': np.float64(-1.0), 'Kyle Brown': None, 'Mrs. Jessica Steele': None, 'Jeffrey Mcgrath': None, 'Christopher Duran': np.float64(0.20044593143431827), 'Carmen Rocha': np.float64(0.12701988191712393), 'Eddie Barajas': np.float64(nan), 'Karen Brown': None, 'Thomas Marks': None, 'Dwayne Tran': np.float64(-0.17407765595569782), 'Alejandro Green': np.float64(-0.24618298195866548), 'Michelle Walker': np.float64(-0.9999999999999999), 'Jessica Myers': None, 'Christopher Wolfe': None, 'Gabriel Cole': None, 'Kelly Hernandez': np.float64(0.9999999999999999), 'Richard Jones': None, 'Ashley Dixon': None, 'Brian Frank': np.float64(0.9999999999999999), 'Robert Tanner': None, 'Katherine Patel': np.float64(-0.2156655464068768), 'Rebecca Li': np.float64(nan), 'Emma Wagner': None, 'Shannon Fisher': None, 'Kathy Collins': np.float64(-0.9999999999999999), 'Peter Luna': None, 'Stephen Heath': np.float64(0.5), 'Dawn Cunningham': np.float64(0.8835412617927488), 'Kimberly Ballard': None, 'John Jensen': np.float64(nan), 'Arthur Griffin': np.float64(0.9999999999999999), 'Tammy Trujillo': np.float64(nan), 'Meghan Harris': None, 'Cameron Schmitt': None, 'Jamie Barker': np.float64(0.8902524557833292), 'Leah Peters': None, 'Andrew Martinez': None, 'Chad Wheeler': np.float64(0.9684959969581861), 'Richard Williams': None, 'Laurie Carroll': None, 'Michael Williams': None, 'Michael Martin': None, 'Brenda Myers': None, 'Omar Smith': np.float64(1.0), 'Amber Baldwin': None, 'Paul Atkinson': None, 'Johnny Moyer': None, 'Steven Cantrell': None, 'Tara Rodriguez': np.float64(nan), 'Benjamin Pugh': None, 'Joseph Mueller': np.float64(nan), 'Laura Foster': np.float64(0.7022635270562235), 'Tina Ritter': np.float64(-0.9999999999999999), 'Heidi Douglas': None, 'Amanda Logan': None, 'Michael Wilkins': None, 'Kelly Walker': np.float64(-0.9999999999999999), 'Danielle Burns': None, 'Heather Olson': None, 'Autumn Allen DDS': None, 'Amber Cross': None, 'Jon Jackson': None, 'Amy Valentine': None, 'Michael Moore': None, 'Cory Patel': None, 'John Farmer': np.float64(0.8029550685469661), 'Sarah Hardy': np.float64(-0.44022545316281186), 'Jessica Cox': None, 'Julia Wright': None, 'Gregory Martinez': None, 'Lori Johnson': np.float64(0.9707253433941508), 'William Haney': None, 'Barbara Cunningham': None, 'Elaine Martinez': None, 'Henry Mcbride': None, 'Shelby Armstrong': np.float64(-0.9999999999999999), 'Tracy Wells': None, 'Sherry Benjamin': None, 'Tina Chavez': None, 'Matthew Shaffer': np.float64(nan), 'Joshua Miller': None, 'Chloe Rodriguez': None, 'Cynthia Pham': np.float64(0.4151454776043247), 'Nicholas Roberson': None, 'Melissa Morales': np.float64(0.6264518021884177), 'Natasha Spence': np.float64(nan), 'Jennifer Dennis': None, 'Kurt Moreno': None, 'Sandra Johnson': None, 'Michael Hale': np.float64(-0.44022545316281186), 'Paul Allen': None, 'Kelly Williams': np.float64(0.9707253433941511), 'Melanie Strong': None, 'Ronnie Evans': None, 'Jesse Jones': None, 'Mary Castro': np.float64(-0.9999999999999999), 'Lisa Fernandez': None, 'Robin Callahan': np.float64(-0.8660254037844387), 'Chad Lyons': None, 'Lori Santiago': None, 'Jon Paul': np.float64(nan), 'Connor Weber PhD': None, 'Ryan Hernandez': None, 'John Allen': None, 'Kevin Ruiz': None, 'Erika Holt': None, 'Traci Sanchez': None, 'Brian Schultz': None, 'Jennifer Hunt': None, 'Cheryl Hernandez': None, 'Joshua Graham': np.float64(0.9999999999999999), 'Sandra Campbell': None, 'Lauren Parker': None, 'Steven Good': None, 'Eric Haley': None, 'Robert Moreno': np.float64(0.4999999999999999), 'Jacob Coleman': None, 'Patrick Fernandez': np.float64(-1.0), 'Maurice Hall': None, 'Mary Allen': np.float64(-0.8003267306650411), 'Christopher Mathis': None, 'John Steele': None, 'Robert Sanders': None, 'Robert Lawrence': None, 'Christopher Johnson': None, 'Dr. James Lynch': None, 'Jessica Mendez': None, 'Rachael Banks': np.float64(0.8660254037844387), 'Michael Hawkins': None, 'Jerry Bolton': None, 'Allen Gonzalez': None, 'Steven Roach': np.float64(0.1530931089239486), 'Kimberly Armstrong': np.float64(0.944911182523068), 'Katherine Martinez': np.float64(1.0), 'Joyce Morrison': None, 'Kristen Campbell': None, 'Jessica Willis': None, 'Michael Flynn': None, 'Melissa Harrison': None, 'Nancy Mclaughlin': None, 'Carla Figueroa': np.float64(nan), 'Luis Gonzalez': None, 'Elizabeth Smith': None, 'Dana Yu': None, 'Bryan Cook': np.float64(0.49613893835683376), 'Stephanie Williams': None, 'Kristopher Terry': np.float64(-0.4999999999999999), 'Michael Shannon': None, 'James Perry': None, 'Michael French': None, 'Kyle Johnson': None, 'Trevor Murphy': None, 'Joseph Chapman': np.float64(-0.44022545316281186), 'Sydney Olsen': None, 'Jose Thompson': None, 'Alicia Guerra': None, 'Matthew Jones': None, 'Natasha Tucker': None, 'James Carter': None, 'Sandra Lopez': None, 'Kelly Webster': None, 'Stephanie Clements': None, 'Bridget Riley': np.float64(0.5), 'Michael Wilson': np.float64(nan), 'Christopher Matthews': np.float64(0.9805806756909203), 'Joseph Williams': None, 'Jon Morgan': None, 'Dr. Mark Aguilar Jr.': np.float64(-0.9999999999999999), 'Jeffrey Li': np.float64(nan), 'Erin Acosta': np.float64(nan), 'Ruth Hernandez': None, 'Daniel Compton': None, 'Scott Garcia': np.float64(-0.944911182523068), 'Joseph Scott': np.float64(nan), 'Raymond Parker': np.float64(0.5773502691896257), 'Kayla Barr': np.float64(-0.2773500981126146), 'David Bridges': None, 'Jennifer Erickson': np.float64(-0.7559289460184544), 'Regina Peck': None, 'Dean Patterson': np.float64(-0.10719868107054553), 'Sarah Brown': None, 'Stephen Barker': None, 'Lori Kelly': None, 'Kevin Romero': np.float64(-0.9999999999999999), 'Cassidy Jones': None, 'James Owens': np.float64(0.2156655464068768), 'Madison Brown': np.float64(nan), 'Alan Holland': None, 'Aaron Marks': None, 'Joshua Martin': None, 'Taylor Peterson': None, 'Kim Francis': None, 'Christopher Edwards': None, 'Brendan Cooper': None, 'Brandi Sandoval': np.float64(0.3409145938362817), 'Amber Briggs': np.float64(nan), 'Steven Riley': None, 'Mr. John Smith Jr.': None, 'Barbara Tran': None, 'Stephanie Hughes': None, 'Monica Martinez': np.float64(1.0), 'Pamela Clements': None, 'Joshua Henry': np.float64(0.9999999999999999), 'Elijah Delacruz': np.float64(nan), 'Daniel Briggs': None, 'Gavin Lopez': np.float64(0.6933752452815366), 'Elizabeth Arellano': np.float64(nan), 'Kathy Curtis': np.float64(0.8660254037844387), 'Denise Bryant': np.float64(0.9999999999999999), 'Anthony Martin': None, 'Robert Chan': np.float64(nan), 'Latasha Johnson': None, 'Frank Howard': None, 'Monica Ortiz': np.float64(nan), 'Jose Marshall': np.float64(-1.0), 'Stacy Jones': np.float64(0.033277916281986085), 'Robert Flores': None, 'Grant Byrd': np.float64(nan), 'John Harding': None, 'George Downs': None, 'James Olsen': None, 'Belinda Diaz': None, 'Michael Harris': None, 'Christopher Brown': None, 'Robert Mitchell': np.float64(0.9819805060619656), 'Julie Green': None, 'Richard Murphy': None, 'Troy Lane': np.float64(-0.4548124285518577), 'Yvette Colon': None, 'Joshua Mckinney': None, 'Casey Gregory': None, 'Yolanda Hernandez': np.float64(-1.0), 'Laura Ryan': None, 'Richard Ayers': None, 'Kenneth Saunders': None, 'Larry Taylor': np.float64(0.970725343394151), 'Timothy Flores': np.float64(-0.5000000000000001), 'Jose Johnson': None, 'Justin Rocha': np.float64(0.9682458365518544), 'Jason Lyons': np.float64(nan), 'Jamie Johnson': None, 'Sean Gonzalez': np.float64(0.5), 'John Hernandez': None, 'William Smith': np.float64(-0.2100420126042015), 'Linda Lowery': np.float64(0.8164965809277259), 'Hector Watson MD': np.float64(1.0), 'Patty Banks': None, 'Kimberly Curry': None, 'Robert Lee': None, 'Christina Black': None, 'Matthew Nichols': None, 'Brett Flores': None, 'Michelle Roth': np.float64(0.5), 'Joseph Cabrera': np.float64(0.9999999999999999), 'Danielle Garrett': None, 'Steven Lara': None, 'Janice Lopez': None, 'Joshua Morrow': None, 'Erika Fletcher': None, 'Gary Bell': None, 'Christopher Andersen': None, 'Austin Martin': None, 'Robert Martinez': None, 'Kelly Mcdaniel': None, 'Melissa Wilson': None, 'Sarah Dixon MD': None, 'Maria Smith': np.float64(0.9999999999999999), 'Steven Mclaughlin': None, 'Ryan Lopez': None, 'Tammy Gregory': None, 'Karen Hill': None, 'Sarah Rhodes': None, 'Mario Collier': None, 'Justin Sullivan': None, 'Brandon Mckay': np.float64(nan), 'Mark Gilmore': None, 'Daniel Lewis': np.float64(-0.8660254037844387), 'Caroline Madden MD': np.float64(-0.1889822365046136), 'Ryan Roth': np.float64(nan), 'Andrea Raymond': None, 'Brian Davis': np.float64(0.9999999999999999), 'Anthony Leonard PhD': None, 'Linda Nguyen': None, 'George Carlson': None, 'Heather Obrien': None, 'Brian Phillips': np.float64(0.5619514869490163), 'Katherine Anderson': None, 'Clarence Robinson': np.float64(0.9021794621203566), 'James Williams': None, 'Joshua Kim': None, 'Robert Mason': np.float64(0.8161633231861503), 'Jaime Collins': None, 'Melissa Ward': None, 'Ronald Wall': None, 'John King': np.float64(0.1348399724926484), 'Amanda Park': None, 'Gregory Rice': None, 'Emily Miller': None, 'James Martinez': None, 'Ronald Griffith': None, 'Mrs. Melanie Webb': None, 'Jennifer Bryant': None, 'Bradley Schultz': np.float64(-0.9999999999999999), 'Sonia Martin': np.float64(0.8660254037844387), 'Jeffrey Avila': None, 'Lauren Galloway': np.float64(nan), 'Jesse Baker': None, 'Dawn Lopez': None, 'Ethan Sparks': None, 'Jessica Walsh': None, 'Paul Page': np.float64(nan), 'Robert Rios': np.float64(0.970725343394151), 'Nicole Ferguson': np.float64(-0.10206207261596574), 'Richard Butler': np.float64(nan), 'Elizabeth Russell': None, 'Vanessa Taylor': None, 'Michael Parker': np.float64(-0.15178123290484904), 'Ashley Vincent': None, 'Melissa Paul': None, 'Meghan Forbes': None, 'Daniel Copeland': np.float64(0.7104982000735065), 'Kristin Jackson': None, 'Morgan Maldonado': np.float64(1.0), 'Allison Horn': np.float64(-0.9999999999999999), 'Travis Monroe': None, 'Sherry Thomas': None, 'Patricia Jones': np.float64(nan), 'Robert Norman': None, 'Thomas Scott': None, 'Shirley Jimenez': None, 'Rebecca Phillips': None, 'Aaron Thomas': None, 'Grant Tate': None, 'Lori Harris': None, 'Caitlyn Hernandez': np.float64(nan), 'Cynthia Smith': None, 'Samantha Baker': None, 'Lynn Bennett': None, 'Julie Wade': None, 'Mark Anderson': np.float64(nan), 'Diana Lowe': np.float64(-1.0), 'Amy Mullins': None, 'Richard Sullivan': None, 'Cynthia Spears': None, 'Amy Small': np.float64(-0.9999999999999999), 'Jasmine Burnett': None, 'Tracy Lamb': None, 'Matthew Wells': None, 'Shannon West': None, 'John Evans': None, 'Ryan Jones': np.float64(-1.0), 'Brian White': None, 'Kaitlin Krueger': None, 'Mariah Mueller': None, 'Tanya Davis': np.float64(0.9999999999999999), 'Amanda Jones': np.float64(0.9999999999999999), 'Joshua Spence': None, 'Jonathan Hood': None, 'Christopher Kemp': None, 'Mary Washington': None, 'Kathleen Parker': np.float64(1.0), 'Kelly Hester': None, 'Debbie York': np.float64(0.7205766921228921), 'Julie Wilson': np.float64(-0.9999999999999999), 'Brent Davis': np.float64(nan), 'Erin Bowen': np.float64(nan), 'Erik Nelson': np.float64(1.0), 'Alyssa Burns': np.float64(0.9999999999999999), 'Ian Davidson': None, 'Dennis Young': None, 'Michelle Watson': np.float64(nan), 'Edward Chandler': None, 'Aaron Flores': None, 'Patrick Bishop': None, 'Jeffrey Henson': np.float64(nan), 'Kimberly Fitzpatrick': None, 'Alicia Rodgers': None, 'Alejandra Spencer': None, 'Richard Todd': None, 'Alexandra Hardy': None, 'Roger Herrera': None, 'Shelby Rose': None, 'Scott Steele': np.float64(0.9999999999999999), 'Adam Johnson': None, 'Jeffrey Campbell': np.float64(-0.45749571099781405), 'Veronica Smith': None, 'Thomas Rowe': None, 'David Anderson': None, 'Leah West': None, 'Jason Hernandez': np.float64(0.3887777768837603), 'Daniel Morgan': None, 'Ryan Smith': None, 'Susan Bishop': np.float64(nan), 'Karla Diaz': np.float64(0.7301743344926802), 'Seth Hicks': None, 'Brian Lopez': np.float64(-0.5), 'Sara Hooper': None, 'Willie Bender': None, 'Colleen Long': np.float64(0.5773502691896257), 'Matthew Johnson': None, 'Rose Vega': np.float64(0.209358947339656), 'Christopher Mitchell': None, 'Vicki Miranda': np.float64(-0.9999999999999999), 'Derek Williams': None, 'William Garcia': np.float64(nan), 'Elizabeth Carlson': None, 'Andrew Alexander': None, 'Joseph Hill': np.float64(1.0), 'Tyler Anderson': None, 'Tony Carson': None, 'Jennifer Carter': np.float64(0.9999999999999999), 'Steven Robertson': None, 'Ashley Green': np.float64(-0.45749571099781405), 'Kaitlyn Wolf': np.float64(0.7624928516630233), 'Brenda Martin': None, 'Paula Saunders': None, 'Joshua Mendoza': None, 'Troy Farmer': None, 'Troy Harris': np.float64(1.0), 'Melissa Winters': None, 'Anna Duncan': np.float64(1.0), 'Margaret Winters': None, 'Priscilla Lee': None, 'Andrew Thomas': None, 'Matthew Zhang': None, 'Andrea Ryan': None, 'Nathan Zhang DDS': None, 'Carl Schneider': None, 'Molly Peterson': None, 'Joanna Sullivan': np.float64(-0.9999999999999999), 'Sharon Gardner': None, 'Teresa Melton DDS': None, 'Victoria Gibbs': None, 'Matthew Miller': np.float64(0.970725343394151), 'Michael Garcia MD': np.float64(nan), 'David Pearson': None, 'Denise Castro': None, 'Renee Holmes': np.float64(0.5), 'Jose Gates': None, 'Mrs. Jaime Landry': None, 'Lisa Herring': None, 'Allison Scott': np.float64(0.8037073126604153), 'Robert Byrd': np.float64(0.9999999999999999), 'Edward Ward': None, 'Jon Cummings': None, 'Deborah Tran': None, 'Shannon Davila MD': np.float64(nan), 'Teresa Alexander': None, 'Darrell Kelly': None, 'Peter Hampton': None, 'Jamie White': np.float64(0.21110016546037452), 'Kimberly Watson': np.float64(nan), 'Caroline Barton': np.float64(0.944911182523068), 'Jasmine Taylor': None, 'Dillon Gay': np.float64(0.9446104285307815), 'Sheila Gaines': np.float64(-0.9999999999999999), 'Leslie Padilla': None, 'Raven Lawrence DDS': np.float64(nan), 'Timothy Woodard': None, 'Jessica Winters': np.float64(0.8934130258980469), 'Tiffany Hill': np.float64(-0.9999999999999999), 'Hannah Edwards': np.float64(0.0), 'Melinda Snow': None, 'Lynn Bailey': None, 'April Potter': None, 'Nicole Montgomery': None, 'David Frazier': np.float64(0.6000991981489792), 'Joseph Clark': None, 'Charles Smith': None, 'Karen Salazar': np.float64(nan), 'David Hickman': None, 'Mr. Thomas Bishop': None, 'Michelle Fitzgerald': None, 'Meghan Hughes': np.float64(-0.9999999999999999), 'Joseph Coleman': None, 'Desiree Davies': None, 'Monica Sutton': np.float64(-0.5), 'Anne Moss': np.float64(0.9999999999999999), 'Robert Sullivan': np.float64(nan), 'Jeremiah Wood': np.float64(0.747017880833996), 'Christopher Miller': np.float64(-0.9999999999999999), 'Jose Gonzales PhD': None, 'Mitchell Morris': np.float64(0.5000000000000001), 'Daniel Jones': None, 'Angel Matthews': None, 'Jessica Soto': None, 'Cameron Perez': None, 'Sierra Wood': None, 'Erin Mason': None, 'Derek Moody': None, 'Billy Mason': None, 'Joanna Arnold': None, 'Lisa Hudson': np.float64(0.9999999999999999), 'Anthony Clark': np.float64(nan), 'Olivia Bentley': np.float64(0.9607689228305228), 'Brendan Chang': np.float64(0.7562762600482743), 'Kevin Wallace': np.float64(0.4023398993836123), 'Darryl Brown': None, 'Phillip Brown': None, 'Donna Garcia': None, 'Miss Monica Luna': None, 'Amanda Garrett': np.float64(-0.9999999999999999), 'Mark Dixon': None, 'Lori Fuller': None, 'Donna Edwards': None, 'Meghan Santos': None, 'Andrew Tran': np.float64(0.3960590171906697), 'Arthur Blair': np.float64(-0.8660254037844387), 'Joseph Allen': None, 'Noah Sanders': np.float64(-0.5), 'Theresa Brown': None, 'Justin Reed': None, 'Richard Simon': np.float64(0.540037386251078), 'Jacob Terry': np.float64(-1.0), 'Travis Bryan': None, 'Maria Gutierrez': None, 'Sean Ayers': np.float64(-0.8660254037844387), 'Robert Newton': np.float64(nan), 'Chad Price': np.float64(0.5000000000000001), 'Anne Casey': np.float64(0.17492785713532988), 'John Gray': None, 'Meghan Jackson MD': None, 'Derek Mitchell': None, 'Peter Herrera': None, 'Jeremiah Bell': None, 'Sean Thornton': None, 'Lee Hartman': np.float64(1.0), 'Derrick Nash': np.float64(0.9707253433941512), 'Thomas Curtis': np.float64(0.087994577093905), 'Jonathan Richardson': np.float64(0.9999999999999999), 'Ian Strickland': np.float64(0.899228803025897), 'Brian Robertson': None, 'Paul Clark': None, 'Manuel Robinson': None, 'Shawn Butler': np.float64(nan), 'Michael Lucas': np.float64(nan), 'Jeremy Crane': None, 'Lisa Salazar': None, 'Crystal Gilbert': np.float64(nan), 'Tina Aguirre': np.float64(0.44022545316281186), 'Derrick Schultz': np.float64(0.9209903627854672), 'Anthony Mitchell': np.float64(nan), 'Jill Webster': None, 'Erika Smith': None, 'Tanya Long': None, 'Christine Mills': None, 'Michael Perez': np.float64(nan), 'Tony Sanchez': np.float64(0.4193139346887674), 'Danielle Rowe': None, 'Jacqueline Woodard': np.float64(0.9999999999999999), 'Jesse Bowen': None, 'Vincent Palmer': None, 'Amy Davis': np.float64(nan), 'Katie Leonard': None, 'Rodney Flores': None, 'Mr. Michael Adams': np.float64(0.9999999999999999), 'Gary Perry': np.float64(0.1673403033788408), 'Johnathan Jordan': None, 'Ronald Goodman': None, 'Edwin Gonzalez': np.float64(-0.970725343394151), 'Ashley Fleming': None, 'Harold Hood': None, 'Shannon Mendoza': None, 'Thomas Martin': None, 'Eric Garcia': None, 'Russell Reyes': None, 'Michael Lee': None, 'Russell Chen': None, 'Maria Moses': None, 'Cindy Ramsey': None, 'Randy Roberts': None, 'Stephanie Jackson': None, 'Danny Pittman': None, 'Jodi Franklin': None, 'Douglas Ellis': None, 'Cynthia Price': None, 'Scott Johnson': None, 'Robin Gomez': None, 'Stefanie Smith': None, 'Erin Pope': np.float64(0.8703882797784891), 'Blake Love': np.float64(0.6267637601279085), 'Jill Garza': None, 'Terri Jackson': None, 'Ashley King': None, 'Lance Robinson': None, 'Noah Bradley': None, 'Harold James': np.float64(0.5222329678670935), 'Emily Roy': None, 'Brian Bryant': np.float64(-0.9999999999999999), 'Alyssa Moreno': None, 'Julie Garza': np.float64(nan), 'Gary Palmer': None, 'Stephanie Lewis': None, 'Jeffrey Mason': None, 'Kristen White': None, 'Lisa Adams': None, 'Martin Trevino': np.float64(0.37256041366421777), 'Heather Johnson': np.float64(nan), 'James Maxwell': None, 'Jeff Short': None, 'Stephanie Brady': None, 'Sally Edwards': None, 'Jeffery Herrera': None, 'Charles Jones': np.float64(nan)}\n"
     ]
    }
   ],
   "source": [
    "import numpy as np\n",
    "\n",
    "\n",
    "users = data['userName'].unique()\n",
    "\n",
    "correlations = {}\n",
    "for user in users : \n",
    "    # Select data of the user  \n",
    "    user_data = get_user_data(user)\n",
    "\n",
    "    common_movies = list(set(monica['title']).intersection(set(user_data['title'])))\n",
    "    if len(common_movies) > 1:  # We need at least two common movies to compute a correlation\n",
    "        monica_common = monica[monica['title'].isin(common_movies)].drop_duplicates('title').set_index('title')\n",
    "        user_common = user_data[user_data['title'].isin(common_movies)].drop_duplicates('title').set_index('title')\n",
    "        monica_ratings = monica_common.loc[common_movies, 'rating']\n",
    "        user_ratings = user_common.loc[common_movies, 'rating']\n",
    "        corr = np.corrcoef(monica_ratings, user_ratings)[0, 1]\n",
    "        correlations[user] = corr\n",
    "    else:\n",
    "        correlations[user] = None  # Not enough movies\n",
    "\n",
    "print(correlations)\n"
   ]
  },
  {
   "cell_type": "markdown",
   "id": "bb5aee4d",
   "metadata": {},
   "source": [
    "We will now apply a thresold to identify the people that are the closest to Monica. The thresold is defined at 0.75."
   ]
  },
  {
   "cell_type": "code",
   "execution_count": 5,
   "id": "287e909f",
   "metadata": {},
   "outputs": [
    {
     "name": "stdout",
     "output_type": "stream",
     "text": [
      "['Thomas Arnold', 'Karina Davis', 'Melanie Hunter', 'Christopher Stevens', 'John Miller', 'John Marsh', 'Richard Hoover', 'Kristina Lopez', 'Deanna Bailey', 'April Miller', 'Maria Lamb', 'Jeffrey Nelson', 'Brandon Brown', 'Kelly Hernandez', 'Brian Frank', 'Dawn Cunningham', 'Arthur Griffin', 'Jamie Barker', 'Chad Wheeler', 'Omar Smith', 'John Farmer', 'Lori Johnson', 'Kelly Williams', 'Joshua Graham', 'Rachael Banks', 'Kimberly Armstrong', 'Katherine Martinez', 'Christopher Matthews', 'Monica Martinez', 'Joshua Henry', 'Kathy Curtis', 'Denise Bryant', 'Robert Mitchell', 'Larry Taylor', 'Justin Rocha', 'Linda Lowery', 'Hector Watson MD', 'Joseph Cabrera', 'Maria Smith', 'Brian Davis', 'Clarence Robinson', 'Robert Mason', 'Sonia Martin', 'Robert Rios', 'Morgan Maldonado', 'Tanya Davis', 'Amanda Jones', 'Kathleen Parker', 'Erik Nelson', 'Alyssa Burns', 'Scott Steele', 'Joseph Hill', 'Jennifer Carter', 'Kaitlyn Wolf', 'Troy Harris', 'Anna Duncan', 'Matthew Miller', 'Allison Scott', 'Robert Byrd', 'Caroline Barton', 'Dillon Gay', 'Jessica Winters', 'Anne Moss', 'Lisa Hudson', 'Olivia Bentley', 'Brendan Chang', 'Lee Hartman', 'Derrick Nash', 'Jonathan Richardson', 'Ian Strickland', 'Derrick Schultz', 'Jacqueline Woodard', 'Mr. Michael Adams', 'Erin Pope']\n"
     ]
    }
   ],
   "source": [
    "users_selected = []\n",
    "\n",
    "for user, corr in correlations.items():\n",
    "    if corr != None :\n",
    "        if corr > 0.75:\n",
    "            users_selected.append(user)\n",
    "\n",
    "print(users_selected)"
   ]
  },
  {
   "cell_type": "markdown",
   "id": "7940555f",
   "metadata": {},
   "source": [
    "Since we have to much people, we will selectionnate only a few of them."
   ]
  },
  {
   "cell_type": "code",
   "execution_count": 6,
   "id": "09ebb691",
   "metadata": {},
   "outputs": [
    {
     "name": "stdout",
     "output_type": "stream",
     "text": [
      "['Justin Rocha', 'Kristina Lopez', 'Brandon Brown', 'Brian Frank', 'Arthur Griffin']\n"
     ]
    }
   ],
   "source": [
    "users_sorted = sorted(users_selected, key=lambda x: x[1], reverse=True)\n",
    "# We select the 5 firsts users from the sorted list\n",
    "users_selected = users_sorted[:5]\n",
    "print(users_selected)"
   ]
  },
  {
   "cell_type": "markdown",
   "id": "5ae7949b",
   "metadata": {},
   "source": [
    "To define the five movies, we will look at all the movies that our selected users have seen but not Monica. From that, we will count the repetition of each movie to sort them and select the 5 that are the most called."
   ]
  },
  {
   "cell_type": "code",
   "execution_count": null,
   "id": "73a14d9a",
   "metadata": {},
   "outputs": [
    {
     "name": "stdout",
     "output_type": "stream",
     "text": [
      "{'Ariel': 1, 'Four Rooms': 2, 'Star Wars': 3, 'American Beauty': 2, 'Dancer in the Dark': 2, 'The Dark': 2, 'Metropolis': 2, 'The Endless Summer': 3, 'Jarhead': 2, 'The Simpsons Movie': 2, '2001: A Space Odyssey': 2, 'War of the Worlds': 1, 'Dirty Dancing': 1, 'Back to the Future': 2, 'Three Colors: Red': 3, 'The Rolling Stones: Gimme Shelter': 1, 'Dont Look Back': 1, 'Bad Education': 1, 'Donnie Darko': 2, 'Wings of Desire': 2, '48 Hrs.': 4, 'The Arrival of a Train at La Ciotat': 2, \"Ocean's Eleven\": 2, 'Back to the Future Part II': 1, 'Saw': 1, 'The Interpreter': 1, 'A Clockwork Orange': 1, 'Lucky Number Slevin': 2, 'Star Trek: Generations': 1, 'Trouble in Paradise': 1, 'Back to the Future Part III': 1, 'Paradise Found': 1, 'Dead Poets Society': 1, 'The Terminator': 2, 'Berlin: Symphony of a Great City': 1, 'Rebecca': 2, 'Man of Marble': 2, 'Man of Iron': 1, 'Syriana': 2, \"Muriel's Wedding\": 1, 'Young Adam': 1, 'Willy Wonka & the Chocolate Factory': 2, 'Live and Let Die': 3, 'Antoine and Colette': 1, 'The 39 Steps': 4, 'Lili Marleen': 2, 'Contempt': 2, 'The Shawshank Redemption': 1, 'Terminator 2: Judgment Day': 1, 'High Noon': 3, 'Casablanca': 1, \"Dave Chappelle's Block Party\": 2, 'The Science of Sleep': 2, 'Beyond Silence': 1, 'Grill Point': 3, 'The Million Dollar Hotel': 3, 'True Romance': 2, 'Bollywood/Hollywood': 1, 'Monsieur Ibrahim': 3, 'Night on Earth': 2, 'Summer Storm': 2, 'Bang, Boom, Bang': 1, 'Eyes Wide Shut': 2, 'Cockles and Muscles': 1, 'The Devil Wears Prada': 1, 'Batman Returns': 2, 'A Nightmare on Elm Street': 2, 'Raising Arizona': 1, 'Rain Man': 2, 'To Catch a Thief': 1, 'Summer in Berlin': 1, 'Batman Forever': 1, '8½': 1, 'The Pianist': 1, 'Mon oncle': 2, \"Summer '04\": 1, 'Maria Full of Grace': 1, 'Aliens vs Predator: Requiem': 1, 'A Beautiful Mind': 1, 'Romeo + Juliet': 2, 'Bend It Like Beckham': 1, 'Sissi': 2, 'Bandyta': 2, 'Bonnie and Clyde': 2, 'Monsoon Wedding': 3, 'The Seventh Seal': 1, 'Being John Malkovich': 1, 'Shaft in Africa': 1, 'Reservoir Dogs': 2, 'Love Actually': 2, 'Notting Hill': 2, 'Dial M for Murder': 1, 'Casino': 1, 'Once Were Warriors': 3, 'Terminator Salvation': 2, 'Flashdance': 2, 'Psycho': 2, 'D.E.B.S.': 1, 'Blackmail': 1, 'The Man Who Knew Too Much': 1, 'Monsters, Inc.': 2, 'Wag the Dog': 2, 'Big Fish': 2, 'The Hours': 2, 'Solaris': 4, 'To Kill a Mockingbird': 3, 'Titanic': 4, 'The Matrix Revolutions': 1, 'Men in Black II': 3, 'Interview with the Vampire': 1, 'Beauty and the Beast': 1, 'A View to a Kill': 1, 'The Living Daylights': 2, 'Monty Python and the Holy Grail': 1, 'The Passion of Joan of Arc': 2, 'Kolya': 2, 'Almost Famous': 1, 'Lolita': 1, 'Roman Holiday': 1, \"Rosemary's Baby\": 1, 'Austin Powers in Goldmember': 1, 'Forbidden Planet': 2, 'M': 2, 'Brief Encounter': 1, 'Sleepless in Seattle': 2, 'Finding Neverland': 1, 'Broken Blossoms': 1, 'Bringing Up Baby': 1, 'City Lights': 1, 'The City of Lost Children': 2, 'Cool Hand Luke': 1, 'The Big Sleep': 1, 'The Bank Dick': 1, 'The Great Dictator': 1, 'Bullitt': 1, 'Blind Date': 1, 'Blood: The Last Vampire': 2, 'The Murderers Are Among Us': 1, 'Rififi': 1, 'For a Few Dollars More': 1, 'Madagascar': 1, 'Straw Dogs': 1, 'Arlington Road': 2, 'Whale Rider': 1, 'The Third Man': 2, 'The Prestige': 1, 'Dreamgirls': 1, 'The Talented Mr. Ripley': 2, 'Eight Miles High': 1, 'Rocky Balboa': 1, 'The Good Shepherd': 2, 'Hollywoodland': 1, 'Because I Said So': 1, 'Notes on a Scandal': 3, 'Bridge to Terabithia': 1, \"Mr. Bean's Holiday\": 1, '300': 1, 'The Dreamers': 1, '3-Iron': 1, 'Dogtown and Z-Boys': 1, 'Torrente 3 The Protector': 1, 'A Brief History of Time': 2, 'Rambo III': 1, 'Gleaming the Cube': 1, 'The Fountain': 1, 'Superstar: The Karen Carpenter Story': 2, 'The Cave of the Yellow Dog': 1, 'Mirror': 2, 'Ae Fond Kiss...': 1, 'Greed': 1, 'La Vie en Rose': 2, 'The Coast Guard': 1, 'The Departed': 1, 'The Contract': 1, 'Get Carter': 1, 'Teenage Mutant Ninja Turtles': 1, 'Teenage Mutant Ninja Turtles III': 1, 'Spy Game': 1, 'Changing Lanes': 1, 'Thelma & Louise': 1, 'Imagine Me & You': 1, 'Parenthood': 1, 'Funeral Parade of Roses': 1, 'Rope': 2, 'The Holiday': 1, 'School of Rock': 1, 'Copying Beethoven': 1, 'Night at the Museum': 1, 'Meet the Parents': 2, 'Cape Fear': 1, 'When Saturday Comes': 1, 'Fever Pitch': 3, 'Forces of Nature': 2, 'The Professional': 1, 'Comanche Station': 1, 'Will Penny': 2, 'Godzilla': 1, 'Mothra vs. Godzilla': 1, 'Jungle Fever': 1, \"All the King's Men\": 1, 'All the Way Boys': 2, 'The Forbidden Kingdom': 1, 'The Prisoner of Zenda': 2, 'Fahrenheit 9/11': 1, 'Roger & Me': 1, 'Malcolm X': 1, 'The Karate Kid': 1, 'Return of the Jedi': 1, 'The 13th Warrior': 1, 'Twin Peaks: Fire Walk with Me': 2, 'An Unfinished Life': 1, 'Manderlay': 1, 'The Butterfly Effect': 3, 'The Elephant Man': 1, 'Gerry': 1, 'Enough': 1, '8 Women': 1, 'Swept from the Sea': 1, 'My Name Is Bruce': 2, 'The Bow': 1, 'A Perfect Murder': 2, 'Alexander': 1, 'Ask the Dust': 2, 'Fools Rush In': 1, '1984': 1, 'The Most Dangerous Game': 1, 'Lara Croft: Tomb Raider': 1, 'Two Brothers': 2, 'Anatomy of Hell': 1, 'Persepolis': 1, 'The Diving Bell and the Butterfly': 1, 'No Good Deed': 1, 'The Bachelor': 1, 'Say Anything...': 2, 'Training Day': 1, \"Mr. Holland's Opus\": 1, 'Mission to Mars': 1, 'Shattered': 1, 'Romeo Must Die': 1, 'The Getaway': 1, 'Romeo Is Bleeding': 1, 'The Last Castle': 1, 'The Breakfast Club': 1, 'Rush Hour': 1, 'Payback': 1, 'Light of Day': 1, 'Color of Night': 1, 'The Time Machine': 1, \"One Night at McCool's\": 2, '2:37': 1, 'Wet Hot American Summer': 1, 'Sun Alley': 1, 'Eastern Promises': 1, 'Chasing Amy': 1, 'The House of the Spirits': 1, 'Veronika Voss': 1, 'Music Box': 1, 'The Golden Compass': 2, 'Day Watch': 1, 'Cold Mountain': 2, 'Kafka': 1, 'Space Jam': 1, 'Avalon': 2, 'In the Name of the King: A Dungeon Siege Tale': 1, 'Prime': 1, 'Local Color': 1, 'Holy Matrimony': 1, 'The Young Girls of Rochefort': 1, 'The Final Cut': 1, 'Confidentially Yours': 1, 'Running Out of Time': 1, 'Tie Me Up! Tie Me Down!': 1, 'The Bourne Supremacy': 1, 'Spanglish': 1, 'Zazie dans le métro': 1, 'Joe Versus the Volcano': 1, 'The Lovers': 1, 'Mr. Destiny': 1, 'Uncle Buck': 1, 'The Great Outdoors': 2, 'Deconstructing Harry': 1, 'Heathers': 2, 'Two Weeks Notice': 1, 'Pleasantville': 2, \"Tuya's Marriage\": 1, 'Abraham': 1, '24 Hour Party People': 1, 'American Pie 2': 1, 'The Curse of the Jade Scorpion': 1, 'The Chronicles of Riddick: Dark Fury': 2, 'André Hazes, Zij Gelooft in Mij': 1, 'Frankenstein': 2, 'Aelita: Queen of Mars': 1, 'Hairspray': 1, 'Twelve Plus One': 1, 'Dr. Jekyll and Mr. Hyde': 1, 'The Big Parade': 1, 'Frankenstein Unbound': 1, 'Yankee Doodle Dandy': 1, 'I Love You to Death': 1, 'Frankenstein Created Woman': 1, 'Destroy All Monsters': 1, 'Frankenstein Conquers the World': 1, 'Battle Royale': 2, 'The Projected Man': 1, 'Anyone Can Play': 1, 'Death Watch': 2, 'Working Girl': 1, 'Frances': 1, 'After the Wedding': 1, 'The Tunnel': 2, 'Girl with a Pearl Earring': 1, 'No Reservations': 1, 'Last of the Renegades': 1, 'Onibaba': 1, 'That Man from Rio': 1, 'Revolutionary Road': 1, 'Judgment Night': 1, 'To Be or Not to Be': 2, 'A River Runs Through It': 1, 'Short Sharp Shock': 1, 'Popular Music': 1, 'Shaft': 2, 'The Man with the Golden Arm': 2, 'Die Hard': 1, 'Dances with Wolves': 1, 'Sunset Boulevard': 1, 'Out of the Past': 1, 'Murder She Said': 1, 'The Thomas Crown Affair': 1, 'The Lady Vanishes': 1, 'The Hidden Fortress': 3, 'Point Break': 1, 'The Thirteenth Floor': 1, 'Escape from New York': 1, 'Ghost Rider': 1, 'Lonely Hearts': 1, 'Breaking and Entering': 1, \"Don't Worry, I'm Fine\": 1, 'Stranger Than Fiction': 1, 'Meet the Robinsons': 1, 'Sunshine': 1, 'The Boys from County Clare': 1, 'A Time to Kill': 1, 'The Motorcycle Diaries': 1, 'Hostel': 1, 'Stomp the Yard': 1, '4 Months, 3 Weeks and 2 Days': 1, 'While You Were Sleeping': 1, 'American Pie': 1, 'Closer': 1, 'This Man Must Die': 1, 'Madame Bovary': 1, 'Aces Go Places V: The Terracotta Hit': 1, 'House of 1000 Corpses': 1, '42nd Street': 1, 'The Ghost of Frankenstein': 1, 'Three-Step Dance': 1, \"Don't Come Knocking\": 1, 'Carry On Screaming': 1, \"Pirates of the Caribbean: Dead Man's Chest\": 2, 'Italian for Beginners': 1, 'Zatoichi': 2, 'Faster, Pussycat! Kill! Kill!': 1, 'The Conversation': 2, 'Blood Diamond': 1, 'Rocky IV': 1, 'Sweet Sixteen': 1, 'Die Hard 2': 1, 'Speed 2: Cruise Control': 1, 'Who Killed Bambi?': 1, 'Kebab Connection': 1, 'The Gift': 1, 'Out of Time': 1, 'License to Wed': 1, 'The Searchers': 1, 'Just a Question of Love': 1, '5 Card Stud': 1, 'The Fifth Element': 1, 'Walk on Water': 1, 'Apocalypse Now': 1, 'Magnetic Rose': 1, 'Brazil': 1, 'American History X': 1, 'Nausicaä of the Valley of the Wind': 1, 'Miami Vice': 1, 'Raiders of the Lost Ark': 1, 'Tron': 1, 'Match Point': 1, 'The Lord of the Rings: The Two Towers': 1, 'No End': 1, 'The 400 Blows': 1, 'Star Trek II: The Wrath of Khan': 1, 'Maybe... Maybe Not': 1, 'Edward Scissorhands': 1, 'The Party 2': 1, 'Star Trek V: The Final Frontier': 1, 'Blown Away': 1, 'Minority Report': 1, 'Amélie': 1, 'Mean Streets': 1, 'North by Northwest': 1, 'Bride of Frankenstein': 1, 'Rumble Fish': 1, 'Stand by Me': 1, 'The Godfather: Part III': 1, 'The Killing': 1, 'The War of the Roses': 1, 'King Kong': 1, 'Cat on a Hot Tin Roof': 1, 'Breathless': 1, 'Batman Begins': 1, 'The White Sound': 1, 'Bull Durham': 1, 'Barton Fink': 1, 'Swimming Pool': 1, 'Beverly Hills Cop III': 1, 'Rome, Open City': 1, 'Broken Flowers': 1, 'Catwoman': 1, 'Mambo Italiano': 1, 'Jurassic Park': 1, 'Jurassic Park III': 1, 'Inspector Gadget': 1, 'Alien': 1, 'La Strada': 1, 'The Day After Tomorrow': 1, 'My Own Private Idaho': 1, 'Stranger Than Paradise': 1, '7 Virgins': 1, 'The Green Mile': 1, 'Grizzly Man': 1, 'The Wrong Trousers': 1, 'Fight Club': 1, 'The Poseidon Adventure': 1, 'Apollo 13': 1, 'Silent Hill': 1, 'The Terminal': 1, 'The Grapes of Wrath': 1, 'Downfall': 1, 'The Last Samurai': 1, 'Soldier of Orange': 1, 'Catch Me If You Can': 1, 'Boyz n the Hood': 1, 'The Marriage of Maria Braun': 1, 'Ben-Hur': 1, \"Harry Potter and the Philosopher's Stone\": 1, 'Faces': 1, 'Fantasia': 1, 'Army of Darkness': 1, 'Gandhi': 1, 'The Day the Earth Stood Still': 1, '2046': 1, 'Delicatessen': 1, 'The Miracle Worker': 1, 'Cars': 1, 'My Tutor': 1, 'Married to the Mob': 1, 'The Goddess': 1, 'Count Dracula': 1, 'Godzilla vs. Mechagodzilla II': 1, \"My Best Friend's Wedding\": 1, 'Aamdani Atthanni Kharcha Rupaiya': 1, 'The Hunchback of Notre Dame': 1, 'Wind with the Gone': 1, 'Longitude': 1}\n"
     ]
    }
   ],
   "source": [
    "movie_recommendations = {}\n",
    "\n",
    "for user in users_selected:\n",
    "    # We get the movies rated by the user\n",
    "    movie_data = get_user_data(user)\n",
    "\n",
    "    for movie in movie_data['title'].unique():\n",
    "        # We choose only the movies that Monica didn't see\n",
    "        if movie not in monica['title'].values :\n",
    "            if movie not in movie_recommendations:\n",
    "                movie_recommendations[movie] = 1\n",
    "            else:\n",
    "                movie_recommendations[movie] += 1\n",
    "\n",
    "print(movie_recommendations)\n",
    "            "
   ]
  },
  {
   "cell_type": "markdown",
   "id": "b1bed00b",
   "metadata": {},
   "source": [
    "We now select the five movies for Monica depending on the others' choices."
   ]
  },
  {
   "cell_type": "code",
   "execution_count": 10,
   "id": "d476b533",
   "metadata": {},
   "outputs": [
    {
     "name": "stdout",
     "output_type": "stream",
     "text": [
      "[('48 Hrs.', 4), ('The 39 Steps', 4), ('Solaris', 4), ('Titanic', 4), ('Star Wars', 3)]\n"
     ]
    }
   ],
   "source": [
    "movie_recommendations_sorted = sorted(movie_recommendations.items(), key=lambda x: x[1], reverse=True)\n",
    "print(movie_recommendations_sorted[:5])"
   ]
  }
 ],
 "metadata": {
  "kernelspec": {
   "display_name": "Python 3",
   "language": "python",
   "name": "python3"
  },
  "language_info": {
   "codemirror_mode": {
    "name": "ipython",
    "version": 3
   },
   "file_extension": ".py",
   "mimetype": "text/x-python",
   "name": "python",
   "nbconvert_exporter": "python",
   "pygments_lexer": "ipython3",
   "version": "3.13.5"
  }
 },
 "nbformat": 4,
 "nbformat_minor": 5
}
